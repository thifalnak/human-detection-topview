{
  "cells": [
    {
      "cell_type": "markdown",
      "source": [
        "# **Training Model Mendeteksi Manusia dan Generate Koordinat**\n",
        "**Njay Bingung Beutt Skripsiannn**"
      ],
      "metadata": {
        "id": "kW6UZOUAzXu5"
      }
    },
    {
      "cell_type": "markdown",
      "source": [
        "\n",
        "# Tujuan\n",
        "* Deteksi Manusia dari Atas\n",
        "* Generate Koordinat dari Bounding Box\n",
        "\n",
        "# Output untuk Paper\n",
        "- [ ] Menghasilkan Hasil evaluasi Training (log buat jadi grafik, grafik mAP, grafik Loss\n",
        "- [ ] Menghasilkan simpangan generated koordinate from desired point\n",
        "- [ ] Feature Mapping secara citra digital\n",
        "- [ ] Empirik/tes dari 10 sampel gambar\n",
        "\n",
        "# Step\n",
        "1. Set Up Google Drive\n",
        "* Step-step lain behind the scene:\n",
        "- [X] Dataset\n",
        "- [X] Cfg\n",
        "\n",
        "2. CD ke Skripsi/Playground\n",
        "3. Set Up Darknet Clone (Opsional)\n",
        "* Makefile\n",
        "4. Start Training"
      ],
      "metadata": {
        "id": "_v9g9xZY20P7"
      }
    },
    {
      "cell_type": "markdown",
      "source": [
        "#Start Step"
      ],
      "metadata": {
        "id": "RAU8qnkm2mAM"
      }
    },
    {
      "cell_type": "code",
      "source": [
        "from google.colab import drive\n",
        "drive.mount('/content/drive')"
      ],
      "metadata": {
        "colab": {
          "base_uri": "https://localhost:8080/"
        },
        "id": "i8930wcv2lqx",
        "outputId": "a5227987-66bd-4f1c-b209-354327e9283a"
      },
      "execution_count": 1,
      "outputs": [
        {
          "output_type": "stream",
          "name": "stdout",
          "text": [
            "Mounted at /content/drive\n"
          ]
        }
      ]
    },
    {
      "cell_type": "code",
      "source": [
        "#Move to playground\n",
        "\n",
        "#%cd /content/drive/MyDrive/Skripsi/playground\n",
        "\n",
        "#clone darknet here\n",
        "\n",
        "#!git clone https://github.com/AlexeyAB/darknet"
      ],
      "metadata": {
        "colab": {
          "base_uri": "https://localhost:8080/"
        },
        "id": "iX4dGTn-2jvW",
        "outputId": "635cef2a-0a73-49fd-defb-c6ed9eaec8bf"
      },
      "execution_count": 24,
      "outputs": [
        {
          "output_type": "stream",
          "name": "stdout",
          "text": [
            "Cloning into 'darknet'...\n",
            "remote: Enumerating objects: 15821, done.\u001b[K\n",
            "remote: Counting objects: 100% (283/283), done.\u001b[K\n",
            "remote: Compressing objects: 100% (185/185), done.\u001b[K\n",
            "remote: Total 15821 (delta 149), reused 188 (delta 96), pack-reused 15538\u001b[K\n",
            "Receiving objects: 100% (15821/15821), 14.71 MiB | 8.13 MiB/s, done.\n",
            "Resolving deltas: 100% (10583/10583), done.\n",
            "Updating files: 100% (2056/2056), done.\n"
          ]
        }
      ]
    },
    {
      "cell_type": "code",
      "source": [
        "#RESERVED for GIT"
      ],
      "metadata": {
        "colab": {
          "base_uri": "https://localhost:8080/"
        },
        "id": "_hQT1TbP3Y6e",
        "outputId": "15dbd7d4-83be-418a-854f-b8b680a2de8a"
      },
      "execution_count": 27,
      "outputs": [
        {
          "output_type": "stream",
          "name": "stdout",
          "text": [
            "fatal: not a git repository (or any parent up to mount point /content)\n",
            "Stopping at filesystem boundary (GIT_DISCOVERY_ACROSS_FILESYSTEM not set).\n"
          ]
        }
      ]
    }
  ],
  "metadata": {
    "accelerator": "GPU",
    "colab": {
      "provenance": []
    },
    "kernelspec": {
      "display_name": "Python 3",
      "name": "python3"
    },
    "language_info": {
      "name": "python"
    }
  },
  "nbformat": 4,
  "nbformat_minor": 0
}